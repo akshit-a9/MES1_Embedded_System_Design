{
  "nbformat": 4,
  "nbformat_minor": 0,
  "metadata": {
    "colab": {
      "provenance": []
    },
    "kernelspec": {
      "name": "python3",
      "display_name": "Python 3"
    },
    "language_info": {
      "name": "python"
    }
  },
  "cells": [
    {
      "cell_type": "code",
      "execution_count": null,
      "metadata": {
        "colab": {
          "base_uri": "https://localhost:8080/"
        },
        "id": "-mW5y50BT0Kf",
        "outputId": "444066ab-9fa5-4e4f-b94b-e097d85c8984"
      },
      "outputs": [
        {
          "output_type": "stream",
          "name": "stdout",
          "text": [
            "W: Skipping acquire of configured file 'main/source/Sources' as repository 'https://r2u.stat.illinois.edu/ubuntu jammy InRelease' does not seem to provide it (sources.list entry misspelt?)\n"
          ]
        }
      ],
      "source": [
        "# Install Java + Graphviz (PlantUML dependencies)\n",
        "!apt-get -qq update\n",
        "!apt-get -qq install -y openjdk-11-jre-headless graphviz >/dev/null\n",
        "\n",
        "# Download PlantUML jar\n",
        "!wget -q -O plantuml.jar https://downloads.sourceforge.net/project/plantuml/plantuml.jar"
      ]
    },
    {
      "cell_type": "code",
      "source": [
        "import os, subprocess, uuid\n",
        "from IPython.display import SVG, display\n",
        "\n",
        "def render_puml(puml_text: str, out_name: str=None):\n",
        "    \"\"\"\n",
        "    Renders PlantUML text to SVG and displays inline in Colab.\n",
        "    Captures stderr for better error reporting.\n",
        "    \"\"\"\n",
        "    if out_name is None:\n",
        "        out_name = f\"uml_{uuid.uuid4().hex}.svg\"\n",
        "    with open(\"tmp.puml\", \"w\") as f:\n",
        "        f.write(puml_text)\n",
        "    # Capture stderr to diagnose PlantUML errors\n",
        "    result = subprocess.run([\"java\", \"-jar\", \"plantuml.jar\", \"-tsvg\", \"tmp.puml\"], capture_output=True, text=True, check=True)\n",
        "    if result.stderr:\n",
        "        print(\"PlantUML STDERR:\")\n",
        "        print(result.stderr)\n",
        "    os.rename(\"tmp.svg\", out_name)\n",
        "    display(SVG(filename=out_name))\n",
        "    return out_name"
      ],
      "metadata": {
        "id": "OVQV4FXHUkcR"
      },
      "execution_count": null,
      "outputs": []
    },
    {
      "cell_type": "code",
      "source": [
        "puml = r\"\"\"\n",
        "@startuml\n",
        "left to right direction\n",
        "skinparam dpi 180\n",
        "skinparam svgLimitSize false\n",
        "\n",
        "actor \"User\" as U\n",
        "rectangle \"Temperature Monitoring System\" {\n",
        "  usecase \"Read Temperature\\nEvery 1 Minute\" as UC_Read\n",
        "  usecase \"Display Temperature\" as UC_Display\n",
        "  usecase \"Change Settings\" as UC_Settings\n",
        "}\n",
        "\n",
        "U --> UC_Read\n",
        "U --> UC_Display\n",
        "U --> UC_Settings\n",
        "UC_Read ..> UC_Display : <<include>>\n",
        "@enduml\n",
        "\"\"\"\n",
        "render_puml(puml)\n"
      ],
      "metadata": {
        "colab": {
          "base_uri": "https://localhost:8080/",
          "height": 471
        },
        "id": "RhFKVjroVmpw",
        "outputId": "a7aba744-bb36-49bb-d02f-7d3f5916df05"
      },
      "execution_count": null,
      "outputs": [
        {
          "output_type": "display_data",
          "data": {
            "text/plain": [
              "<IPython.core.display.SVG object>"
            ],
            "image/svg+xml": "<svg xmlns=\"http://www.w3.org/2000/svg\" xmlns:xlink=\"http://www.w3.org/1999/xlink\" contentStyleType=\"text/css\" height=\"412.5px\" preserveAspectRatio=\"none\" style=\"width:1228px;height:412px;background:#FFFFFF;\" version=\"1.1\" viewBox=\"0 0 1228 412\" width=\"1228.125px\" zoomAndPan=\"magnify\"><defs/><g><!--cluster Temperature Monitoring System--><g id=\"cluster_Temperature Monitoring System\"><rect fill=\"none\" height=\"328.125\" rx=\"4.6875\" ry=\"4.6875\" style=\"stroke:#181818;stroke-width:1.875;\" width=\"1057.5\" x=\"159.375\" y=\"13.125\"/><text fill=\"#000000\" font-family=\"sans-serif\" font-size=\"26.25\" font-weight=\"bold\" lengthAdjust=\"spacing\" textLength=\"435\" x=\"470.625\" y=\"38.7286\">Temperature Monitoring System</text></g><g id=\"elem_UC_Read\"><ellipse cx=\"384.9227\" cy=\"125.5294\" fill=\"#F1F1F1\" rx=\"195.5477\" ry=\"48.6544\" style=\"stroke:#181818;stroke-width:0.9375;\"/><text fill=\"#000000\" font-family=\"sans-serif\" font-size=\"26.25\" lengthAdjust=\"spacing\" textLength=\"240\" x=\"259.2977\" y=\"116.4318\">Read Temperature</text><text fill=\"#000000\" font-family=\"sans-serif\" font-size=\"26.25\" lengthAdjust=\"spacing\" textLength=\"210\" x=\"274.2977\" y=\"146.1681\">Every 1 Minute</text></g><g id=\"elem_UC_Display\"><ellipse cx=\"1009.918\" cy=\"228.4211\" fill=\"#F1F1F1\" rx=\"177.418\" ry=\"39.9836\" style=\"stroke:#181818;stroke-width:0.9375;\"/><text fill=\"#000000\" font-family=\"sans-serif\" font-size=\"26.25\" lengthAdjust=\"spacing\" textLength=\"285\" x=\"861.793\" y=\"234.1917\">Display Temperature</text></g><g id=\"elem_UC_Settings\"><ellipse cx=\"385.7777\" cy=\"275.9055\" fill=\"#F1F1F1\" rx=\"152.3402\" ry=\"34.968\" style=\"stroke:#181818;stroke-width:0.9375;\"/><text fill=\"#000000\" font-family=\"sans-serif\" font-size=\"26.25\" lengthAdjust=\"spacing\" textLength=\"225\" x=\"267.6527\" y=\"281.6761\">Change Settings</text></g><!--entity U--><g id=\"elem_U\"><ellipse cx=\"41.25\" cy=\"220.3125\" fill=\"#F1F1F1\" rx=\"15\" ry=\"15\" style=\"stroke:#181818;stroke-width:0.9375;\"/><path d=\"M41.25,235.3125 L41.25,285.9375 M16.875,250.3125 L65.625,250.3125 M41.25,285.9375 L16.875,314.0625 M41.25,285.9375 L65.625,314.0625 \" fill=\"none\" style=\"stroke:#181818;stroke-width:0.9375;\"/><text fill=\"#000000\" font-family=\"sans-serif\" font-size=\"26.25\" lengthAdjust=\"spacing\" textLength=\"60\" x=\"11.25\" y=\"338.7286\">User</text></g><!--link U to UC_Read--><g id=\"link_U_UC_Read\"><path d=\"M72.0375,253.4625 C91.6688,239.1375 118.6313,220.8938 144.375,208.125 C176.7375,192.0938 212.9813,177.8438 247.2938,165.8813 \" fill=\"none\" id=\"U-to-UC_Read\" style=\"stroke:#181818;stroke-width:1.875;\"/><polygon fill=\"#181818\" points=\"256.8937,162.5813,238.4962,160.9852,248.0297,165.6341,243.3808,175.1676,256.8937,162.5813\" style=\"stroke:#181818;stroke-width:1.875;\"/></g><!--link U to UC_Display--><g id=\"link_U_UC_Display\"><path d=\"M71.7375,301.425 C90.8063,316.8188 117.2813,334.9313 144.375,343.125 C330.2063,399.3938 388.7438,368.4938 581.25,343.125 C692.7375,328.4438 816.4688,293.0438 901.8375,265.5 \" fill=\"none\" id=\"U-to-UC_Display\" style=\"stroke:#181818;stroke-width:1.875;\"/><polygon fill=\"#181818\" points=\"911.025,262.5188,892.6593,260.5906,902.1073,265.411,897.2869,274.8589,911.025,262.5188\" style=\"stroke:#181818;stroke-width:1.875;\"/></g><!--link U to UC_Settings--><g id=\"link_U_UC_Settings\"><path d=\"M71.55,275.625 C105.525,275.625 165.0938,275.625 223.1438,275.625 \" fill=\"none\" id=\"U-to-UC_Settings\" style=\"stroke:#181818;stroke-width:1.875;\"/><polygon fill=\"#181818\" points=\"233.1938,275.625,216.3188,268.125,223.8188,275.625,216.3188,283.125,233.1938,275.625\" style=\"stroke:#181818;stroke-width:1.875;\"/></g><!--link UC_Read to UC_Display--><g id=\"link_UC_Read_UC_Display\"><path d=\"M549.4313,152.5875 C644.2312,168.3375 763.1063,188.1 856.0313,203.5313 \" fill=\"none\" id=\"UC_Read-to-UC_Display\" style=\"stroke:#181818;stroke-width:1.875;stroke-dasharray:7.0,7.0;\"/><polygon fill=\"#181818\" points=\"865.5188,205.1063,850.092,194.9558,856.2691,203.5781,847.6469,209.7552,865.5188,205.1063\" style=\"stroke:#181818;stroke-width:1.875;\"/><text fill=\"#000000\" font-family=\"sans-serif\" font-size=\"24.375\" lengthAdjust=\"spacing\" textLength=\"135\" x=\"639.375\" y=\"160.9177\">«include»</text></g><!--SRC=[JOwnRi9044Jx-ugHUr3eeWYvWNIXYUCEALhPYrdbVBPkrqW6yUyn0bjNpkoRsV5yCbY7ACtPK4laogGBJlyaz1IfHTqBDkzlYQENvajQiKAkZ1DvPUUeiYuYAvLZ1bAKxj54eV6Cx8VRdYFP41c7BiY4IcXGZ6hSPhWvO52kI2Vscwb64ZY6pml74HiS90p6p_RTxuDBStlHtjEOHcVqTKhftNcQnYZOR5gYCpbhTtUkn6gLBvyMDPSjnf9veLYlKn0Vs6ubL7weES__0G00]--></g></svg>"
          },
          "metadata": {}
        },
        {
          "output_type": "execute_result",
          "data": {
            "text/plain": [
              "'uml_a745673e44664120b395c1f643c52207.svg'"
            ],
            "application/vnd.google.colaboratory.intrinsic+json": {
              "type": "string"
            }
          },
          "metadata": {},
          "execution_count": 44
        }
      ]
    },
    {
      "cell_type": "code",
      "source": [
        "puml = r\"\"\"\n",
        "@startuml\n",
        "skinparam dpi 180\n",
        "skinparam svgLimitSize false\n",
        "\n",
        "class Controller {\n",
        "  +start(): void\n",
        "  +onTick(): void\n",
        "}\n",
        "\n",
        "class Timer {\n",
        "  +intervalSec: int\n",
        "  +start(): void\n",
        "  +tick(): void\n",
        "}\n",
        "\n",
        "class TemperatureSensor {\n",
        "  +read(): float\n",
        "}\n",
        "\n",
        "class Display {\n",
        "  +show(value: float): void\n",
        "}\n",
        "\n",
        "class Logger {\n",
        "  +append(timestamp: DateTime, value: float): void\n",
        "}\n",
        "\n",
        "Controller --> Timer\n",
        "Controller --> TemperatureSensor\n",
        "Controller --> Display\n",
        "Controller --> Logger\n",
        "@enduml\n",
        "\"\"\"\n",
        "render_puml(puml)"
      ],
      "metadata": {
        "colab": {
          "base_uri": "https://localhost:8080/",
          "height": 525
        },
        "id": "Sf9nWZynV6YS",
        "outputId": "e9e2c633-71da-4c9c-cf86-50f2f0595ff5"
      },
      "execution_count": null,
      "outputs": [
        {
          "output_type": "display_data",
          "data": {
            "text/plain": [
              "<IPython.core.display.SVG object>"
            ],
            "image/svg+xml": "<svg xmlns=\"http://www.w3.org/2000/svg\" xmlns:xlink=\"http://www.w3.org/1999/xlink\" contentStyleType=\"text/css\" height=\"466.875px\" preserveAspectRatio=\"none\" style=\"width:1989px;height:466px;background:#FFFFFF;\" version=\"1.1\" viewBox=\"0 0 1989 466\" width=\"1989.375px\" zoomAndPan=\"magnify\"><defs/><g><!--class Controller--><g id=\"elem_Controller\"><rect codeLine=\"5\" fill=\"#F1F1F1\" height=\"149.4727\" id=\"Controller\" rx=\"4.6875\" ry=\"4.6875\" style=\"stroke:#181818;stroke-width:0.9375;\" width=\"258.75\" x=\"609.375\" y=\"13.125\"/><ellipse cx=\"659.4375\" cy=\"43.125\" fill=\"#ADD1B2\" rx=\"20.625\" ry=\"20.625\" style=\"stroke:#181818;stroke-width:1.875;\"/><path d=\"M655.9805,42.832 Q655.9805,46.3477 657.0645,48.252 Q658.1484,50.127 660.3164,50.127 Q661.0195,50.127 661.5762,49.8633 Q662.1621,49.5703 662.6309,49.0723 Q663.0996,48.5742 663.4512,47.8711 Q663.8027,47.168 664.0664,46.3477 L668.3145,47.1387 Q667.8164,48.6914 667.084,49.9219 Q666.3809,51.123 665.3848,51.9727 Q664.3887,52.8223 663.1289,53.291 Q661.8691,53.7598 660.2871,53.7598 Q657.9141,53.7598 656.2148,52.9688 Q654.5156,52.1777 653.4316,50.7422 Q652.3477,49.3066 651.8203,47.3145 Q651.3223,45.293 651.3223,42.832 Q651.3223,40.2246 651.8496,38.2324 Q652.377,36.2402 653.4609,34.8926 Q654.5742,33.5156 656.2148,32.8125 Q657.8848,32.1094 660.1406,32.1094 Q661.7813,32.1094 663.0117,32.5781 Q664.2715,33.0176 665.209,33.8379 Q666.1465,34.6289 666.791,35.7422 Q667.4648,36.8555 667.875,38.1738 L663.627,39.1992 Q663.4219,38.4375 663.0996,37.8223 Q662.8066,37.1777 662.3672,36.709 Q661.9277,36.2402 661.3711,35.9766 Q660.8438,35.7129 660.1992,35.7129 Q658.0898,35.7129 657.0352,37.5293 Q655.9805,39.3164 655.9805,42.832 Z \" fill=\"#000000\"/><text fill=\"#000000\" font-family=\"sans-serif\" font-size=\"26.25\" lengthAdjust=\"spacing\" textLength=\"150\" x=\"690.5625\" y=\"50.1105\">Controller</text><line style=\"stroke:#181818;stroke-width:0.9375;\" x1=\"611.25\" x2=\"866.25\" y1=\"73.125\" y2=\"73.125\"/><line style=\"stroke:#181818;stroke-width:0.9375;\" x1=\"611.25\" x2=\"866.25\" y1=\"88.125\" y2=\"88.125\"/><ellipse cx=\"630\" cy=\"113.3057\" fill=\"#84BE84\" rx=\"5.625\" ry=\"5.625\" style=\"stroke:#038048;stroke-width:1.875;\"/><text fill=\"#000000\" font-family=\"sans-serif\" font-size=\"26.25\" lengthAdjust=\"spacing\" textLength=\"195\" x=\"646.875\" y=\"117.4786\">start(): void</text><ellipse cx=\"630\" cy=\"143.042\" fill=\"#84BE84\" rx=\"5.625\" ry=\"5.625\" style=\"stroke:#038048;stroke-width:1.875;\"/><text fill=\"#000000\" font-family=\"sans-serif\" font-size=\"26.25\" lengthAdjust=\"spacing\" textLength=\"210\" x=\"646.875\" y=\"147.215\">onTick(): void</text></g><!--class Timer--><g id=\"elem_Timer\"><rect codeLine=\"10\" fill=\"#F1F1F1\" height=\"179.209\" id=\"Timer\" rx=\"4.6875\" ry=\"4.6875\" style=\"stroke:#181818;stroke-width:0.9375;\" width=\"288.75\" x=\"13.125\" y=\"275.625\"/><ellipse cx=\"112.0313\" cy=\"305.625\" fill=\"#ADD1B2\" rx=\"20.625\" ry=\"20.625\" style=\"stroke:#181818;stroke-width:1.875;\"/><path d=\"M108.5742,305.332 Q108.5742,308.8477 109.6582,310.752 Q110.7422,312.627 112.9102,312.627 Q113.6133,312.627 114.1699,312.3633 Q114.7559,312.0703 115.2246,311.5723 Q115.6934,311.0742 116.0449,310.3711 Q116.3965,309.668 116.6602,308.8477 L120.9082,309.6387 Q120.4102,311.1914 119.6777,312.4219 Q118.9746,313.623 117.9785,314.4727 Q116.9824,315.3223 115.7227,315.791 Q114.4629,316.2598 112.8809,316.2598 Q110.5078,316.2598 108.8086,315.4688 Q107.1094,314.6777 106.0254,313.2422 Q104.9414,311.8066 104.4141,309.8145 Q103.916,307.793 103.916,305.332 Q103.916,302.7246 104.4434,300.7324 Q104.9707,298.7402 106.0547,297.3926 Q107.168,296.0156 108.8086,295.3125 Q110.4785,294.6094 112.7344,294.6094 Q114.375,294.6094 115.6055,295.0781 Q116.8652,295.5176 117.8027,296.3379 Q118.7402,297.1289 119.3848,298.2422 Q120.0586,299.3555 120.4688,300.6738 L116.2207,301.6992 Q116.0156,300.9375 115.6934,300.3223 Q115.4004,299.6777 114.9609,299.209 Q114.5215,298.7402 113.9648,298.4766 Q113.4375,298.2129 112.793,298.2129 Q110.6836,298.2129 109.6289,300.0293 Q108.5742,301.8164 108.5742,305.332 Z \" fill=\"#000000\"/><text fill=\"#000000\" font-family=\"sans-serif\" font-size=\"26.25\" lengthAdjust=\"spacing\" textLength=\"75\" x=\"150.4688\" y=\"312.6105\">Timer</text><line style=\"stroke:#181818;stroke-width:0.9375;\" x1=\"15\" x2=\"300\" y1=\"335.625\" y2=\"335.625\"/><ellipse cx=\"33.75\" cy=\"360.8057\" fill=\"none\" rx=\"5.625\" ry=\"5.625\" style=\"stroke:#038048;stroke-width:1.875;\"/><text fill=\"#000000\" font-family=\"sans-serif\" font-size=\"26.25\" lengthAdjust=\"spacing\" textLength=\"240\" x=\"50.625\" y=\"364.9786\">intervalSec: int</text><line style=\"stroke:#181818;stroke-width:0.9375;\" x1=\"15\" x2=\"300\" y1=\"380.3613\" y2=\"380.3613\"/><ellipse cx=\"33.75\" cy=\"405.542\" fill=\"#84BE84\" rx=\"5.625\" ry=\"5.625\" style=\"stroke:#038048;stroke-width:1.875;\"/><text fill=\"#000000\" font-family=\"sans-serif\" font-size=\"26.25\" lengthAdjust=\"spacing\" textLength=\"195\" x=\"50.625\" y=\"409.715\">start(): void</text><ellipse cx=\"33.75\" cy=\"435.2783\" fill=\"#84BE84\" rx=\"5.625\" ry=\"5.625\" style=\"stroke:#038048;stroke-width:1.875;\"/><text fill=\"#000000\" font-family=\"sans-serif\" font-size=\"26.25\" lengthAdjust=\"spacing\" textLength=\"180\" x=\"50.625\" y=\"439.4513\">tick(): void</text></g><!--class TemperatureSensor--><g id=\"elem_TemperatureSensor\"><rect codeLine=\"16\" fill=\"#F1F1F1\" height=\"119.7363\" id=\"TemperatureSensor\" rx=\"4.6875\" ry=\"4.6875\" style=\"stroke:#181818;stroke-width:0.9375;\" width=\"315\" x=\"367.5\" y=\"305.625\"/><ellipse cx=\"395.625\" cy=\"335.625\" fill=\"#ADD1B2\" rx=\"20.625\" ry=\"20.625\" style=\"stroke:#181818;stroke-width:1.875;\"/><path d=\"M392.168,335.332 Q392.168,338.8477 393.252,340.752 Q394.3359,342.627 396.5039,342.627 Q397.207,342.627 397.7637,342.3633 Q398.3496,342.0703 398.8184,341.5723 Q399.2871,341.0742 399.6387,340.3711 Q399.9902,339.668 400.2539,338.8477 L404.502,339.6387 Q404.0039,341.1914 403.2715,342.4219 Q402.5684,343.623 401.5723,344.4727 Q400.5762,345.3223 399.3164,345.791 Q398.0566,346.2598 396.4746,346.2598 Q394.1016,346.2598 392.4023,345.4688 Q390.7031,344.6777 389.6191,343.2422 Q388.5352,341.8066 388.0078,339.8145 Q387.5098,337.793 387.5098,335.332 Q387.5098,332.7246 388.0371,330.7324 Q388.5645,328.7402 389.6484,327.3926 Q390.7617,326.0156 392.4023,325.3125 Q394.0723,324.6094 396.3281,324.6094 Q397.9688,324.6094 399.1992,325.0781 Q400.459,325.5176 401.3965,326.3379 Q402.334,327.1289 402.9785,328.2422 Q403.6523,329.3555 404.0625,330.6738 L399.8145,331.6992 Q399.6094,330.9375 399.2871,330.3223 Q398.9941,329.6777 398.5547,329.209 Q398.1152,328.7402 397.5586,328.4766 Q397.0313,328.2129 396.3867,328.2129 Q394.2773,328.2129 393.2227,330.0293 Q392.168,331.8164 392.168,335.332 Z \" fill=\"#000000\"/><text fill=\"#000000\" font-family=\"sans-serif\" font-size=\"26.25\" lengthAdjust=\"spacing\" textLength=\"255\" x=\"421.875\" y=\"342.6105\">TemperatureSensor</text><line style=\"stroke:#181818;stroke-width:0.9375;\" x1=\"369.375\" x2=\"680.625\" y1=\"365.625\" y2=\"365.625\"/><line style=\"stroke:#181818;stroke-width:0.9375;\" x1=\"369.375\" x2=\"680.625\" y1=\"380.625\" y2=\"380.625\"/><ellipse cx=\"388.125\" cy=\"405.8057\" fill=\"#84BE84\" rx=\"5.625\" ry=\"5.625\" style=\"stroke:#038048;stroke-width:1.875;\"/><text fill=\"#000000\" font-family=\"sans-serif\" font-size=\"26.25\" lengthAdjust=\"spacing\" textLength=\"195\" x=\"405\" y=\"409.9786\">read(): float</text></g><!--class Display--><g id=\"elem_Display\"><rect codeLine=\"20\" fill=\"#F1F1F1\" height=\"119.7363\" id=\"Display\" rx=\"4.6875\" ry=\"4.6875\" style=\"stroke:#181818;stroke-width:0.9375;\" width=\"408.75\" x=\"748.125\" y=\"305.625\"/><ellipse cx=\"892.0313\" cy=\"335.625\" fill=\"#ADD1B2\" rx=\"20.625\" ry=\"20.625\" style=\"stroke:#181818;stroke-width:1.875;\"/><path d=\"M888.5742,335.332 Q888.5742,338.8477 889.6582,340.752 Q890.7422,342.627 892.9102,342.627 Q893.6133,342.627 894.1699,342.3633 Q894.7559,342.0703 895.2246,341.5723 Q895.6934,341.0742 896.0449,340.3711 Q896.3965,339.668 896.6602,338.8477 L900.9082,339.6387 Q900.4102,341.1914 899.6777,342.4219 Q898.9746,343.623 897.9785,344.4727 Q896.9824,345.3223 895.7227,345.791 Q894.4629,346.2598 892.8809,346.2598 Q890.5078,346.2598 888.8086,345.4688 Q887.1094,344.6777 886.0254,343.2422 Q884.9414,341.8066 884.4141,339.8145 Q883.916,337.793 883.916,335.332 Q883.916,332.7246 884.4434,330.7324 Q884.9707,328.7402 886.0547,327.3926 Q887.168,326.0156 888.8086,325.3125 Q890.4785,324.6094 892.7344,324.6094 Q894.375,324.6094 895.6055,325.0781 Q896.8652,325.5176 897.8027,326.3379 Q898.7402,327.1289 899.3848,328.2422 Q900.0586,329.3555 900.4688,330.6738 L896.2207,331.6992 Q896.0156,330.9375 895.6934,330.3223 Q895.4004,329.6777 894.9609,329.209 Q894.5215,328.7402 893.9648,328.4766 Q893.4375,328.2129 892.793,328.2129 Q890.6836,328.2129 889.6289,330.0293 Q888.5742,331.8164 888.5742,335.332 Z \" fill=\"#000000\"/><text fill=\"#000000\" font-family=\"sans-serif\" font-size=\"26.25\" lengthAdjust=\"spacing\" textLength=\"105\" x=\"930.4688\" y=\"342.6105\">Display</text><line style=\"stroke:#181818;stroke-width:0.9375;\" x1=\"750\" x2=\"1155\" y1=\"365.625\" y2=\"365.625\"/><line style=\"stroke:#181818;stroke-width:0.9375;\" x1=\"750\" x2=\"1155\" y1=\"380.625\" y2=\"380.625\"/><ellipse cx=\"768.75\" cy=\"405.8057\" fill=\"#84BE84\" rx=\"5.625\" ry=\"5.625\" style=\"stroke:#038048;stroke-width:1.875;\"/><text fill=\"#000000\" font-family=\"sans-serif\" font-size=\"26.25\" lengthAdjust=\"spacing\" textLength=\"360\" x=\"785.625\" y=\"409.9786\">show(value: float): void</text></g><!--class Logger--><g id=\"elem_Logger\"><rect codeLine=\"24\" fill=\"#F1F1F1\" height=\"119.7363\" id=\"Logger\" rx=\"4.6875\" ry=\"4.6875\" style=\"stroke:#181818;stroke-width:0.9375;\" width=\"753.75\" x=\"1222.5\" y=\"305.625\"/><ellipse cx=\"1546.4063\" cy=\"335.625\" fill=\"#ADD1B2\" rx=\"20.625\" ry=\"20.625\" style=\"stroke:#181818;stroke-width:1.875;\"/><path d=\"M1542.9492,335.332 Q1542.9492,338.8477 1544.0332,340.752 Q1545.1172,342.627 1547.2852,342.627 Q1547.9883,342.627 1548.5449,342.3633 Q1549.1309,342.0703 1549.5996,341.5723 Q1550.0684,341.0742 1550.4199,340.3711 Q1550.7715,339.668 1551.0352,338.8477 L1555.2832,339.6387 Q1554.7852,341.1914 1554.0527,342.4219 Q1553.3496,343.623 1552.3535,344.4727 Q1551.3574,345.3223 1550.0977,345.791 Q1548.8379,346.2598 1547.2559,346.2598 Q1544.8828,346.2598 1543.1836,345.4688 Q1541.4844,344.6777 1540.4004,343.2422 Q1539.3164,341.8066 1538.7891,339.8145 Q1538.291,337.793 1538.291,335.332 Q1538.291,332.7246 1538.8184,330.7324 Q1539.3457,328.7402 1540.4297,327.3926 Q1541.543,326.0156 1543.1836,325.3125 Q1544.8535,324.6094 1547.1094,324.6094 Q1548.75,324.6094 1549.9805,325.0781 Q1551.2402,325.5176 1552.1777,326.3379 Q1553.1152,327.1289 1553.7598,328.2422 Q1554.4336,329.3555 1554.8438,330.6738 L1550.5957,331.6992 Q1550.3906,330.9375 1550.0684,330.3223 Q1549.7754,329.6777 1549.3359,329.209 Q1548.8965,328.7402 1548.3398,328.4766 Q1547.8125,328.2129 1547.168,328.2129 Q1545.0586,328.2129 1544.0039,330.0293 Q1542.9492,331.8164 1542.9492,335.332 Z \" fill=\"#000000\"/><text fill=\"#000000\" font-family=\"sans-serif\" font-size=\"26.25\" lengthAdjust=\"spacing\" textLength=\"90\" x=\"1584.8438\" y=\"342.6105\">Logger</text><line style=\"stroke:#181818;stroke-width:0.9375;\" x1=\"1224.375\" x2=\"1974.375\" y1=\"365.625\" y2=\"365.625\"/><line style=\"stroke:#181818;stroke-width:0.9375;\" x1=\"1224.375\" x2=\"1974.375\" y1=\"380.625\" y2=\"380.625\"/><ellipse cx=\"1243.125\" cy=\"405.8057\" fill=\"#84BE84\" rx=\"5.625\" ry=\"5.625\" style=\"stroke:#038048;stroke-width:1.875;\"/><text fill=\"#000000\" font-family=\"sans-serif\" font-size=\"26.25\" lengthAdjust=\"spacing\" textLength=\"705\" x=\"1260\" y=\"409.9786\">append(timestamp: DateTime, value: float): void</text></g><!--link Controller to Timer--><g id=\"link_Controller_Timer\"><path codeLine=\"28\" d=\"M608.7375,148.2375 C529.05,184.275 425.1375,231.8625 333.75,275.625 C326.1563,279.2625 318.3938,283.0125 310.575,286.8188 \" fill=\"none\" id=\"Controller-to-Timer\" style=\"stroke:#181818;stroke-width:1.875;\"/><polygon fill=\"#181818\" points=\"302.0625,290.9813,320.5185,290.3548,310.4954,286.8853,313.9649,276.8622,302.0625,290.9813\" style=\"stroke:#181818;stroke-width:1.875;\"/></g><!--link Controller to TemperatureSensor--><g id=\"link_Controller_TemperatureSensor\"><path codeLine=\"29\" d=\"M681.4688,163.3687 C648.8813,205.1063 608.3625,256.9875 576.7312,297.4875 \" fill=\"none\" id=\"Controller-to-TemperatureSensor\" style=\"stroke:#181818;stroke-width:1.875;\"/><polygon fill=\"#181818\" points=\"570.9375,304.9125,587.2244,296.209,576.6988,297.5167,575.3911,286.991,570.9375,304.9125\" style=\"stroke:#181818;stroke-width:1.875;\"/></g><!--link Controller to Display--><g id=\"link_Controller_Display\"><path codeLine=\"30\" d=\"M796.0313,163.3687 C828.6188,205.1063 869.1375,256.9875 900.7688,297.4875 \" fill=\"none\" id=\"Controller-to-Display\" style=\"stroke:#181818;stroke-width:1.875;\"/><polygon fill=\"#181818\" points=\"906.5625,304.9125,902.1089,286.991,900.8012,297.5167,890.2756,296.209,906.5625,304.9125\" style=\"stroke:#181818;stroke-width:1.875;\"/></g><!--link Controller to Logger--><g id=\"link_Controller_Logger\"><path codeLine=\"31\" d=\"M868.5188,131.2875 C1011.6188,176.7938 1243.2938,250.4813 1407.3938,302.6813 \" fill=\"none\" id=\"Controller-to-Logger\" style=\"stroke:#181818;stroke-width:1.875;\"/><polygon fill=\"#181818\" points=\"1416.6375,305.625,1402.8218,293.3717,1407.7017,302.7891,1398.2844,307.669,1416.6375,305.625\" style=\"stroke:#181818;stroke-width:1.875;\"/></g><!--SRC=[TP2z3e9G34Ptdg8ZHarqCmmkEhhX2pHGiV7-vRPWrFZkGWGrgEFzylNSqyg9NS285ih0i5mj4dabqbGxjgmvNmaEQ8IIf30e0XllD7fZAC8j0PYAOjHqaa7ZkUm2x_PSd5x9VHZSinrcs2d51arEHGRjuoT7VrF81egeTQISdFYU60dBhdmm7lNTth84WvVUzEZFQVjhJNtl2xxpLJKuOWZaobHRwrRDXWosgDGjCOC_a8_JpEVhvy9VuTX_NEYLn_5JxG40]--></g></svg>"
          },
          "metadata": {}
        },
        {
          "output_type": "execute_result",
          "data": {
            "text/plain": [
              "'uml_fef4302a6d894975bfa781d4237ef8fd.svg'"
            ],
            "application/vnd.google.colaboratory.intrinsic+json": {
              "type": "string"
            }
          },
          "metadata": {},
          "execution_count": 57
        }
      ]
    },
    {
      "cell_type": "code",
      "source": [
        "shared_defs = r\"\"\"\n",
        "' ===== Shared elements for all diagrams =====\n",
        "skinparam svgLimitSize false\n",
        "skinparam dpi 180\n",
        "skinparam shadowing false\n",
        "\n",
        "' Common participants\n",
        "actor \"User\" as U\n",
        "participant \"Controller\" as C\n",
        "participant \"Timer\" as T\n",
        "participant \"TemperatureSensor\" as S\n",
        "participant \"Display\" as D\n",
        "participant \"Logger\" as L\n",
        "\"\"\"\n",
        "with open(\"uml_defs.puml\", \"w\") as f:\n",
        "    f.write(shared_defs)\n",
        "print(\"Wrote uml_defs.puml\")\n"
      ],
      "metadata": {
        "colab": {
          "base_uri": "https://localhost:8080/"
        },
        "id": "joD2JIrJebz_",
        "outputId": "6cd735f0-ea97-4b5d-8ee9-eed47d0655cd"
      },
      "execution_count": null,
      "outputs": [
        {
          "output_type": "stream",
          "name": "stdout",
          "text": [
            "Wrote uml_defs.puml\n"
          ]
        }
      ]
    },
    {
      "cell_type": "code",
      "source": [
        "puml_comm = r\"\"\"\n",
        "@startuml\n",
        "!include uml_defs.puml\n",
        "title Communication Diagram — Temperature Monitor\n",
        "\n",
        "'UML communication emphasizes links; we number messages to indicate order:\n",
        "U -> C : 1. start()\n",
        "C -> T : 2. start(60s)\n",
        "T -> C : 3. tick()\n",
        "C -> S : 4. read()\n",
        "S -> C : 5. temperature\n",
        "C -> D : 6. show(value)\n",
        "C -> L : 7. append(ts,value)\n",
        "@enduml\n",
        "\"\"\"\n",
        "render_puml(puml_comm)"
      ],
      "metadata": {
        "colab": {
          "base_uri": "https://localhost:8080/",
          "height": 844
        },
        "id": "fMvw32iafiOT",
        "outputId": "f7779e0e-b0b0-4f6d-f8cb-4deca76df6b0"
      },
      "execution_count": null,
      "outputs": [
        {
          "output_type": "display_data",
          "data": {
            "text/plain": [
              "<IPython.core.display.SVG object>"
            ],
            "image/svg+xml": "<svg xmlns=\"http://www.w3.org/2000/svg\" xmlns:xlink=\"http://www.w3.org/1999/xlink\" contentStyleType=\"text/css\" height=\"785.625px\" preserveAspectRatio=\"none\" style=\"width:1126px;height:785px;background:#FFFFFF;\" version=\"1.1\" viewBox=\"0 0 1126 785\" width=\"1126.875px\" zoomAndPan=\"magnify\"><defs/><g><text fill=\"#000000\" font-family=\"sans-serif\" font-size=\"26.25\" font-weight=\"bold\" lengthAdjust=\"spacing\" textLength=\"645\" x=\"239.0625\" y=\"49.9786\">Communication Diagram — Temperature Monitor</text><line style=\"stroke:#181818;stroke-width:0.9375;stroke-dasharray:5.0,5.0;\" x1=\"45\" x2=\"45\" y1=\"220.7227\" y2=\"635.2588\"/><line style=\"stroke:#181818;stroke-width:0.9375;stroke-dasharray:5.0,5.0;\" x1=\"240\" x2=\"240\" y1=\"220.7227\" y2=\"635.2588\"/><line style=\"stroke:#181818;stroke-width:0.9375;stroke-dasharray:5.0,5.0;\" x1=\"480\" x2=\"480\" y1=\"220.7227\" y2=\"635.2588\"/><line style=\"stroke:#181818;stroke-width:0.9375;stroke-dasharray:5.0,5.0;\" x1=\"690\" x2=\"690\" y1=\"220.7227\" y2=\"635.2588\"/><line style=\"stroke:#181818;stroke-width:0.9375;stroke-dasharray:5.0,5.0;\" x1=\"915\" x2=\"915\" y1=\"220.7227\" y2=\"635.2588\"/><line style=\"stroke:#181818;stroke-width:0.9375;stroke-dasharray:5.0,5.0;\" x1=\"1057.5\" x2=\"1057.5\" y1=\"220.7227\" y2=\"635.2588\"/><text fill=\"#000000\" font-family=\"sans-serif\" font-size=\"26.25\" lengthAdjust=\"spacing\" textLength=\"60\" x=\"9.375\" y=\"212.84\">User</text><ellipse cx=\"45\" cy=\"94.4238\" fill=\"#E2E2F0\" rx=\"15\" ry=\"15\" style=\"stroke:#181818;stroke-width:0.9375;\"/><path d=\"M45,109.4238 L45,160.0488 M20.625,124.4238 L69.375,124.4238 M45,160.0488 L20.625,188.1738 M45,160.0488 L69.375,188.1738 \" fill=\"none\" style=\"stroke:#181818;stroke-width:0.9375;\"/><text fill=\"#000000\" font-family=\"sans-serif\" font-size=\"26.25\" lengthAdjust=\"spacing\" textLength=\"60\" x=\"9.375\" y=\"655.2374\">User</text><ellipse cx=\"45\" cy=\"679.0576\" fill=\"#E2E2F0\" rx=\"15\" ry=\"15\" style=\"stroke:#181818;stroke-width:0.9375;\"/><path d=\"M45,694.0576 L45,744.6826 M20.625,709.0576 L69.375,709.0576 M45,744.6826 L20.625,772.8076 M45,744.6826 L69.375,772.8076 \" fill=\"none\" style=\"stroke:#181818;stroke-width:0.9375;\"/><rect fill=\"#E2E2F0\" height=\"55.9863\" rx=\"4.6875\" ry=\"4.6875\" style=\"stroke:#181818;stroke-width:0.9375;\" width=\"176.25\" x=\"151.875\" y=\"162.8613\"/><text fill=\"#000000\" font-family=\"sans-serif\" font-size=\"26.25\" lengthAdjust=\"spacing\" textLength=\"150\" x=\"165\" y=\"197.84\">Controller</text><rect fill=\"#E2E2F0\" height=\"55.9863\" rx=\"4.6875\" ry=\"4.6875\" style=\"stroke:#181818;stroke-width:0.9375;\" width=\"176.25\" x=\"151.875\" y=\"633.3838\"/><text fill=\"#000000\" font-family=\"sans-serif\" font-size=\"26.25\" lengthAdjust=\"spacing\" textLength=\"150\" x=\"165\" y=\"668.3624\">Controller</text><rect fill=\"#E2E2F0\" height=\"55.9863\" rx=\"4.6875\" ry=\"4.6875\" style=\"stroke:#181818;stroke-width:0.9375;\" width=\"101.25\" x=\"429.375\" y=\"162.8613\"/><text fill=\"#000000\" font-family=\"sans-serif\" font-size=\"26.25\" lengthAdjust=\"spacing\" textLength=\"75\" x=\"442.5\" y=\"197.84\">Timer</text><rect fill=\"#E2E2F0\" height=\"55.9863\" rx=\"4.6875\" ry=\"4.6875\" style=\"stroke:#181818;stroke-width:0.9375;\" width=\"101.25\" x=\"429.375\" y=\"633.3838\"/><text fill=\"#000000\" font-family=\"sans-serif\" font-size=\"26.25\" lengthAdjust=\"spacing\" textLength=\"75\" x=\"442.5\" y=\"668.3624\">Timer</text><rect fill=\"#E2E2F0\" height=\"55.9863\" rx=\"4.6875\" ry=\"4.6875\" style=\"stroke:#181818;stroke-width:0.9375;\" width=\"281.25\" x=\"549.375\" y=\"162.8613\"/><text fill=\"#000000\" font-family=\"sans-serif\" font-size=\"26.25\" lengthAdjust=\"spacing\" textLength=\"255\" x=\"562.5\" y=\"197.84\">TemperatureSensor</text><rect fill=\"#E2E2F0\" height=\"55.9863\" rx=\"4.6875\" ry=\"4.6875\" style=\"stroke:#181818;stroke-width:0.9375;\" width=\"281.25\" x=\"549.375\" y=\"633.3838\"/><text fill=\"#000000\" font-family=\"sans-serif\" font-size=\"26.25\" lengthAdjust=\"spacing\" textLength=\"255\" x=\"562.5\" y=\"668.3624\">TemperatureSensor</text><rect fill=\"#E2E2F0\" height=\"55.9863\" rx=\"4.6875\" ry=\"4.6875\" style=\"stroke:#181818;stroke-width:0.9375;\" width=\"131.25\" x=\"849.375\" y=\"162.8613\"/><text fill=\"#000000\" font-family=\"sans-serif\" font-size=\"26.25\" lengthAdjust=\"spacing\" textLength=\"105\" x=\"862.5\" y=\"197.84\">Display</text><rect fill=\"#E2E2F0\" height=\"55.9863\" rx=\"4.6875\" ry=\"4.6875\" style=\"stroke:#181818;stroke-width:0.9375;\" width=\"131.25\" x=\"849.375\" y=\"633.3838\"/><text fill=\"#000000\" font-family=\"sans-serif\" font-size=\"26.25\" lengthAdjust=\"spacing\" textLength=\"105\" x=\"862.5\" y=\"668.3624\">Display</text><rect fill=\"#E2E2F0\" height=\"55.9863\" rx=\"4.6875\" ry=\"4.6875\" style=\"stroke:#181818;stroke-width:0.9375;\" width=\"116.25\" x=\"999.375\" y=\"162.8613\"/><text fill=\"#000000\" font-family=\"sans-serif\" font-size=\"26.25\" lengthAdjust=\"spacing\" textLength=\"90\" x=\"1012.5\" y=\"197.84\">Logger</text><rect fill=\"#E2E2F0\" height=\"55.9863\" rx=\"4.6875\" ry=\"4.6875\" style=\"stroke:#181818;stroke-width:0.9375;\" width=\"116.25\" x=\"999.375\" y=\"633.3838\"/><text fill=\"#000000\" font-family=\"sans-serif\" font-size=\"26.25\" lengthAdjust=\"spacing\" textLength=\"90\" x=\"1012.5\" y=\"668.3624\">Logger</text><polygon fill=\"#181818\" points=\"217.5,270.835,236.25,278.335,217.5,285.835,225,278.335\" style=\"stroke:#181818;stroke-width:1.875;\"/><line style=\"stroke:#181818;stroke-width:1.875;\" x1=\"45\" x2=\"228.75\" y1=\"278.335\" y2=\"278.335\"/><text fill=\"#000000\" font-family=\"sans-serif\" font-size=\"24.375\" lengthAdjust=\"spacing\" textLength=\"150\" x=\"58.125\" y=\"267.2653\">1. start()</text><polygon fill=\"#181818\" points=\"457.5,324.6973,476.25,332.1973,457.5,339.6973,465,332.1973\" style=\"stroke:#181818;stroke-width:1.875;\"/><line style=\"stroke:#181818;stroke-width:1.875;\" x1=\"240\" x2=\"468.75\" y1=\"332.1973\" y2=\"332.1973\"/><text fill=\"#000000\" font-family=\"sans-serif\" font-size=\"24.375\" lengthAdjust=\"spacing\" textLength=\"195\" x=\"253.125\" y=\"321.1276\">2. start(60s)</text><polygon fill=\"#181818\" points=\"260.625,378.5596,241.875,386.0596,260.625,393.5596,253.125,386.0596\" style=\"stroke:#181818;stroke-width:1.875;\"/><line style=\"stroke:#181818;stroke-width:1.875;\" x1=\"249.375\" x2=\"478.125\" y1=\"386.0596\" y2=\"386.0596\"/><text fill=\"#000000\" font-family=\"sans-serif\" font-size=\"24.375\" lengthAdjust=\"spacing\" textLength=\"135\" x=\"271.875\" y=\"374.9899\">3. tick()</text><polygon fill=\"#181818\" points=\"667.5,432.4219,686.25,439.9219,667.5,447.4219,675,439.9219\" style=\"stroke:#181818;stroke-width:1.875;\"/><line style=\"stroke:#181818;stroke-width:1.875;\" x1=\"240\" x2=\"678.75\" y1=\"439.9219\" y2=\"439.9219\"/><text fill=\"#000000\" font-family=\"sans-serif\" font-size=\"24.375\" lengthAdjust=\"spacing\" textLength=\"135\" x=\"253.125\" y=\"428.8522\">4. read()</text><polygon fill=\"#181818\" points=\"260.625,486.2842,241.875,493.7842,260.625,501.2842,253.125,493.7842\" style=\"stroke:#181818;stroke-width:1.875;\"/><line style=\"stroke:#181818;stroke-width:1.875;\" x1=\"249.375\" x2=\"688.125\" y1=\"493.7842\" y2=\"493.7842\"/><text fill=\"#000000\" font-family=\"sans-serif\" font-size=\"24.375\" lengthAdjust=\"spacing\" textLength=\"210\" x=\"271.875\" y=\"482.7145\">5. temperature</text><polygon fill=\"#181818\" points=\"892.5,540.1465,911.25,547.6465,892.5,555.1465,900,547.6465\" style=\"stroke:#181818;stroke-width:1.875;\"/><line style=\"stroke:#181818;stroke-width:1.875;\" x1=\"240\" x2=\"903.75\" y1=\"547.6465\" y2=\"547.6465\"/><text fill=\"#000000\" font-family=\"sans-serif\" font-size=\"24.375\" lengthAdjust=\"spacing\" textLength=\"210\" x=\"253.125\" y=\"536.5768\">6. show(value)</text><polygon fill=\"#181818\" points=\"1035,594.0088,1053.75,601.5088,1035,609.0088,1042.5,601.5088\" style=\"stroke:#181818;stroke-width:1.875;\"/><line style=\"stroke:#181818;stroke-width:1.875;\" x1=\"240\" x2=\"1046.25\" y1=\"601.5088\" y2=\"601.5088\"/><text fill=\"#000000\" font-family=\"sans-serif\" font-size=\"24.375\" lengthAdjust=\"spacing\" textLength=\"285\" x=\"253.125\" y=\"590.4391\">7. append(ts,value)</text><!--SRC=[LOvBJWCn44JtFaMnOYA15Nv12b8sasMoocIDcd4diUBFo6uJYHM7u8IS14TXXDYrNhqgzPKDlIk6KRnxDRpBUgYN4YkEqKRlIx0zYOq1IqlxH1xVdr_es0-SI4fYh6Em4fDIrzlr2ls_JjKEbEq7PpWRZla59qOe_eqJFETC-vf8X0tcN674P3ZDrHQt2xIOuquZ2oLf9geziwwo-v7DfdcYkb5zq13R7qTpKz6ZHc8o5Mr6wwbQVyzVr6NbipfwYAVcdLpXtubLvSyQD0mSJ2FvvXB-0000]--></g></svg>"
          },
          "metadata": {}
        },
        {
          "output_type": "execute_result",
          "data": {
            "text/plain": [
              "'uml_a5fcc9fe71254259bc40d4f2271b3397.svg'"
            ],
            "application/vnd.google.colaboratory.intrinsic+json": {
              "type": "string"
            }
          },
          "metadata": {},
          "execution_count": 48
        }
      ]
    },
    {
      "cell_type": "code",
      "source": [
        "puml_seq = r\"\"\"\n",
        "@startuml\n",
        "!include uml_defs.puml\n",
        "title Sequence Diagram — Temperature Monitor\n",
        "\n",
        "== Setup ==\n",
        "U -> C: start()\n",
        "C -> T: start(interval=60s)\n",
        "\n",
        "== Periodic cycle ==\n",
        "loop Every 60 seconds\n",
        "  T -> C: tick()\n",
        "  activate C\n",
        "  C -> S: read()\n",
        "  activate S\n",
        "  S --> C: value\n",
        "  deactivate S\n",
        "  C -> D: show(value)\n",
        "  C -> L: append(ts,value)\n",
        "  deactivate C\n",
        "end\n",
        "\n",
        "== Optional path ==\n",
        "opt Change interval\n",
        "  U -> C: setInterval(30s)\n",
        "  C -> T: restart(30s)\n",
        "end\n",
        "@enduml\n",
        "\"\"\"\n",
        "render_puml(puml_seq)"
      ],
      "metadata": {
        "colab": {
          "base_uri": "https://localhost:8080/",
          "height": 1000
        },
        "id": "rGO3mHO1i1cE",
        "outputId": "1b04e3f0-2692-4099-8481-b3c0324e5bf9"
      },
      "execution_count": null,
      "outputs": [
        {
          "output_type": "display_data",
          "data": {
            "text/plain": [
              "<IPython.core.display.SVG object>"
            ],
            "image/svg+xml": "<svg xmlns=\"http://www.w3.org/2000/svg\" xmlns:xlink=\"http://www.w3.org/1999/xlink\" contentStyleType=\"text/css\" height=\"1248.75px\" preserveAspectRatio=\"none\" style=\"width:1374px;height:1248px;background:#FFFFFF;\" version=\"1.1\" viewBox=\"0 0 1374 1248\" width=\"1374.375px\" zoomAndPan=\"magnify\"><defs/><g><text fill=\"#000000\" font-family=\"sans-serif\" font-size=\"26.25\" font-weight=\"bold\" lengthAdjust=\"spacing\" textLength=\"570\" x=\"394.6875\" y=\"49.9786\">Sequence Diagram — Temperature Monitor</text><rect fill=\"#FFFFFF\" height=\"215.4492\" style=\"stroke:#181818;stroke-width:1.875;\" width=\"18.75\" x=\"348.75\" y=\"590.7715\"/><rect fill=\"#FFFFFF\" height=\"53.8623\" style=\"stroke:#181818;stroke-width:1.875;\" width=\"18.75\" x=\"888.75\" y=\"644.6338\"/><rect fill=\"none\" height=\"300.6738\" style=\"stroke:#000000;stroke-width:2.8125;\" width=\"1091.25\" x=\"251.25\" y=\"520.5469\"/><rect fill=\"none\" height=\"139.0869\" style=\"stroke:#000000;stroke-width:2.8125;\" width=\"738.75\" x=\"18.75\" y=\"927.583\"/><line style=\"stroke:#181818;stroke-width:0.9375;stroke-dasharray:5.0,5.0;\" x1=\"73.125\" x2=\"73.125\" y1=\"220.7227\" y2=\"1098.5449\"/><line style=\"stroke:#181818;stroke-width:0.9375;stroke-dasharray:5.0,5.0;\" x1=\"358.125\" x2=\"358.125\" y1=\"220.7227\" y2=\"1098.5449\"/><line style=\"stroke:#181818;stroke-width:0.9375;stroke-dasharray:5.0,5.0;\" x1=\"688.125\" x2=\"688.125\" y1=\"220.7227\" y2=\"1098.5449\"/><line style=\"stroke:#181818;stroke-width:0.9375;stroke-dasharray:5.0,5.0;\" x1=\"898.125\" x2=\"898.125\" y1=\"220.7227\" y2=\"1098.5449\"/><line style=\"stroke:#181818;stroke-width:0.9375;stroke-dasharray:5.0,5.0;\" x1=\"1123.125\" x2=\"1123.125\" y1=\"220.7227\" y2=\"1098.5449\"/><line style=\"stroke:#181818;stroke-width:0.9375;stroke-dasharray:5.0,5.0;\" x1=\"1265.625\" x2=\"1265.625\" y1=\"220.7227\" y2=\"1098.5449\"/><text fill=\"#000000\" font-family=\"sans-serif\" font-size=\"26.25\" lengthAdjust=\"spacing\" textLength=\"60\" x=\"37.5\" y=\"212.84\">User</text><ellipse cx=\"73.125\" cy=\"94.4238\" fill=\"#E2E2F0\" rx=\"15\" ry=\"15\" style=\"stroke:#181818;stroke-width:0.9375;\"/><path d=\"M73.125,109.4238 L73.125,160.0488 M48.75,124.4238 L97.5,124.4238 M73.125,160.0488 L48.75,188.1738 M73.125,160.0488 L97.5,188.1738 \" fill=\"none\" style=\"stroke:#181818;stroke-width:0.9375;\"/><text fill=\"#000000\" font-family=\"sans-serif\" font-size=\"26.25\" lengthAdjust=\"spacing\" textLength=\"60\" x=\"37.5\" y=\"1118.5236\">User</text><ellipse cx=\"73.125\" cy=\"1142.3438\" fill=\"#E2E2F0\" rx=\"15\" ry=\"15\" style=\"stroke:#181818;stroke-width:0.9375;\"/><path d=\"M73.125,1157.3438 L73.125,1207.9688 M48.75,1172.3438 L97.5,1172.3438 M73.125,1207.9688 L48.75,1236.0938 M73.125,1207.9688 L97.5,1236.0938 \" fill=\"none\" style=\"stroke:#181818;stroke-width:0.9375;\"/><rect fill=\"#E2E2F0\" height=\"55.9863\" rx=\"4.6875\" ry=\"4.6875\" style=\"stroke:#181818;stroke-width:0.9375;\" width=\"176.25\" x=\"270\" y=\"162.8613\"/><text fill=\"#000000\" font-family=\"sans-serif\" font-size=\"26.25\" lengthAdjust=\"spacing\" textLength=\"150\" x=\"283.125\" y=\"197.84\">Controller</text><rect fill=\"#E2E2F0\" height=\"55.9863\" rx=\"4.6875\" ry=\"4.6875\" style=\"stroke:#181818;stroke-width:0.9375;\" width=\"176.25\" x=\"270\" y=\"1096.6699\"/><text fill=\"#000000\" font-family=\"sans-serif\" font-size=\"26.25\" lengthAdjust=\"spacing\" textLength=\"150\" x=\"283.125\" y=\"1131.6486\">Controller</text><rect fill=\"#E2E2F0\" height=\"55.9863\" rx=\"4.6875\" ry=\"4.6875\" style=\"stroke:#181818;stroke-width:0.9375;\" width=\"101.25\" x=\"637.5\" y=\"162.8613\"/><text fill=\"#000000\" font-family=\"sans-serif\" font-size=\"26.25\" lengthAdjust=\"spacing\" textLength=\"75\" x=\"650.625\" y=\"197.84\">Timer</text><rect fill=\"#E2E2F0\" height=\"55.9863\" rx=\"4.6875\" ry=\"4.6875\" style=\"stroke:#181818;stroke-width:0.9375;\" width=\"101.25\" x=\"637.5\" y=\"1096.6699\"/><text fill=\"#000000\" font-family=\"sans-serif\" font-size=\"26.25\" lengthAdjust=\"spacing\" textLength=\"75\" x=\"650.625\" y=\"1131.6486\">Timer</text><rect fill=\"#E2E2F0\" height=\"55.9863\" rx=\"4.6875\" ry=\"4.6875\" style=\"stroke:#181818;stroke-width:0.9375;\" width=\"281.25\" x=\"757.5\" y=\"162.8613\"/><text fill=\"#000000\" font-family=\"sans-serif\" font-size=\"26.25\" lengthAdjust=\"spacing\" textLength=\"255\" x=\"770.625\" y=\"197.84\">TemperatureSensor</text><rect fill=\"#E2E2F0\" height=\"55.9863\" rx=\"4.6875\" ry=\"4.6875\" style=\"stroke:#181818;stroke-width:0.9375;\" width=\"281.25\" x=\"757.5\" y=\"1096.6699\"/><text fill=\"#000000\" font-family=\"sans-serif\" font-size=\"26.25\" lengthAdjust=\"spacing\" textLength=\"255\" x=\"770.625\" y=\"1131.6486\">TemperatureSensor</text><rect fill=\"#E2E2F0\" height=\"55.9863\" rx=\"4.6875\" ry=\"4.6875\" style=\"stroke:#181818;stroke-width:0.9375;\" width=\"131.25\" x=\"1057.5\" y=\"162.8613\"/><text fill=\"#000000\" font-family=\"sans-serif\" font-size=\"26.25\" lengthAdjust=\"spacing\" textLength=\"105\" x=\"1070.625\" y=\"197.84\">Display</text><rect fill=\"#E2E2F0\" height=\"55.9863\" rx=\"4.6875\" ry=\"4.6875\" style=\"stroke:#181818;stroke-width:0.9375;\" width=\"131.25\" x=\"1057.5\" y=\"1096.6699\"/><text fill=\"#000000\" font-family=\"sans-serif\" font-size=\"26.25\" lengthAdjust=\"spacing\" textLength=\"105\" x=\"1070.625\" y=\"1131.6486\">Display</text><rect fill=\"#E2E2F0\" height=\"55.9863\" rx=\"4.6875\" ry=\"4.6875\" style=\"stroke:#181818;stroke-width:0.9375;\" width=\"116.25\" x=\"1207.5\" y=\"162.8613\"/><text fill=\"#000000\" font-family=\"sans-serif\" font-size=\"26.25\" lengthAdjust=\"spacing\" textLength=\"90\" x=\"1220.625\" y=\"197.84\">Logger</text><rect fill=\"#E2E2F0\" height=\"55.9863\" rx=\"4.6875\" ry=\"4.6875\" style=\"stroke:#181818;stroke-width:0.9375;\" width=\"116.25\" x=\"1207.5\" y=\"1096.6699\"/><text fill=\"#000000\" font-family=\"sans-serif\" font-size=\"26.25\" lengthAdjust=\"spacing\" textLength=\"90\" x=\"1220.625\" y=\"1131.6486\">Logger</text><rect fill=\"#FFFFFF\" height=\"215.4492\" style=\"stroke:#181818;stroke-width:1.875;\" width=\"18.75\" x=\"348.75\" y=\"590.7715\"/><rect fill=\"#FFFFFF\" height=\"53.8623\" style=\"stroke:#181818;stroke-width:1.875;\" width=\"18.75\" x=\"888.75\" y=\"644.6338\"/><rect fill=\"#EEEEEE\" height=\"5.625\" style=\"stroke:#EEEEEE;stroke-width:1.875;\" width=\"1361.25\" x=\"0\" y=\"277.6538\"/><line style=\"stroke:#000000;stroke-width:1.875;\" x1=\"0\" x2=\"1361.25\" y1=\"277.6538\" y2=\"277.6538\"/><line style=\"stroke:#000000;stroke-width:1.875;\" x1=\"0\" x2=\"1361.25\" y1=\"283.2788\" y2=\"283.2788\"/><rect fill=\"#EEEEEE\" height=\"42.6123\" style=\"stroke:#000000;stroke-width:3.75;\" width=\"116.25\" x=\"622.5\" y=\"258.2227\"/><text fill=\"#000000\" font-family=\"sans-serif\" font-size=\"24.375\" font-weight=\"bold\" lengthAdjust=\"spacing\" textLength=\"75\" x=\"633.75\" y=\"286.0153\">Setup</text><polygon fill=\"#181818\" points=\"335.625,350.9473,354.375,358.4473,335.625,365.9473,343.125,358.4473\" style=\"stroke:#181818;stroke-width:1.875;\"/><line style=\"stroke:#181818;stroke-width:1.875;\" x1=\"73.125\" x2=\"346.875\" y1=\"358.4473\" y2=\"358.4473\"/><text fill=\"#000000\" font-family=\"sans-serif\" font-size=\"24.375\" lengthAdjust=\"spacing\" textLength=\"105\" x=\"86.25\" y=\"347.3776\">start()</text><polygon fill=\"#181818\" points=\"665.625,404.8096,684.375,412.3096,665.625,419.8096,673.125,412.3096\" style=\"stroke:#181818;stroke-width:1.875;\"/><line style=\"stroke:#181818;stroke-width:1.875;\" x1=\"358.125\" x2=\"676.875\" y1=\"412.3096\" y2=\"412.3096\"/><text fill=\"#000000\" font-family=\"sans-serif\" font-size=\"24.375\" lengthAdjust=\"spacing\" textLength=\"285\" x=\"371.25\" y=\"401.2399\">start(interval=60s)</text><rect fill=\"#EEEEEE\" height=\"5.625\" style=\"stroke:#EEEEEE;stroke-width:1.875;\" width=\"1361.25\" x=\"0\" y=\"465.4907\"/><line style=\"stroke:#000000;stroke-width:1.875;\" x1=\"0\" x2=\"1361.25\" y1=\"465.4907\" y2=\"465.4907\"/><line style=\"stroke:#000000;stroke-width:1.875;\" x1=\"0\" x2=\"1361.25\" y1=\"471.1157\" y2=\"471.1157\"/><rect fill=\"#EEEEEE\" height=\"42.6123\" style=\"stroke:#000000;stroke-width:3.75;\" width=\"251.25\" x=\"555\" y=\"446.0596\"/><text fill=\"#000000\" font-family=\"sans-serif\" font-size=\"24.375\" font-weight=\"bold\" lengthAdjust=\"spacing\" textLength=\"210\" x=\"566.25\" y=\"473.8522\">Periodic cycle</text><path d=\"M251.25,520.5469 L395.625,520.5469 L395.625,533.1592 L376.875,551.9092 L251.25,551.9092 L251.25,520.5469 \" fill=\"#EEEEEE\" style=\"stroke:#000000;stroke-width:2.8125;\"/><rect fill=\"none\" height=\"300.6738\" style=\"stroke:#000000;stroke-width:2.8125;\" width=\"1091.25\" x=\"251.25\" y=\"520.5469\"/><text fill=\"#000000\" font-family=\"sans-serif\" font-size=\"24.375\" font-weight=\"bold\" lengthAdjust=\"spacing\" textLength=\"60\" x=\"279.375\" y=\"542.7145\">loop</text><text fill=\"#000000\" font-family=\"sans-serif\" font-size=\"20.625\" font-weight=\"bold\" lengthAdjust=\"spacing\" textLength=\"236.25\" x=\"423.75\" y=\"541.4676\">[Every 60 seconds]</text><polygon fill=\"#181818\" points=\"388.125,583.2715,369.375,590.7715,388.125,598.2715,380.625,590.7715\" style=\"stroke:#181818;stroke-width:1.875;\"/><line style=\"stroke:#181818;stroke-width:1.875;\" x1=\"376.875\" x2=\"686.25\" y1=\"590.7715\" y2=\"590.7715\"/><text fill=\"#000000\" font-family=\"sans-serif\" font-size=\"24.375\" lengthAdjust=\"spacing\" textLength=\"90\" x=\"399.375\" y=\"579.7018\">tick()</text><polygon fill=\"#181818\" points=\"866.25,637.1338,885,644.6338,866.25,652.1338,873.75,644.6338\" style=\"stroke:#181818;stroke-width:1.875;\"/><line style=\"stroke:#181818;stroke-width:1.875;\" x1=\"367.5\" x2=\"877.5\" y1=\"644.6338\" y2=\"644.6338\"/><text fill=\"#000000\" font-family=\"sans-serif\" font-size=\"24.375\" lengthAdjust=\"spacing\" textLength=\"90\" x=\"380.625\" y=\"633.5641\">read()</text><polygon fill=\"#181818\" points=\"388.125,690.9961,369.375,698.4961,388.125,705.9961,380.625,698.4961\" style=\"stroke:#181818;stroke-width:1.875;\"/><line style=\"stroke:#181818;stroke-width:1.875;stroke-dasharray:2.0,2.0;\" x1=\"376.875\" x2=\"896.25\" y1=\"698.4961\" y2=\"698.4961\"/><text fill=\"#000000\" font-family=\"sans-serif\" font-size=\"24.375\" lengthAdjust=\"spacing\" textLength=\"75\" x=\"399.375\" y=\"687.4265\">value</text><polygon fill=\"#181818\" points=\"1100.625,744.8584,1119.375,752.3584,1100.625,759.8584,1108.125,752.3584\" style=\"stroke:#181818;stroke-width:1.875;\"/><line style=\"stroke:#181818;stroke-width:1.875;\" x1=\"367.5\" x2=\"1111.875\" y1=\"752.3584\" y2=\"752.3584\"/><text fill=\"#000000\" font-family=\"sans-serif\" font-size=\"24.375\" lengthAdjust=\"spacing\" textLength=\"165\" x=\"380.625\" y=\"741.2888\">show(value)</text><polygon fill=\"#181818\" points=\"1243.125,798.7207,1261.875,806.2207,1243.125,813.7207,1250.625,806.2207\" style=\"stroke:#181818;stroke-width:1.875;\"/><line style=\"stroke:#181818;stroke-width:1.875;\" x1=\"358.125\" x2=\"1254.375\" y1=\"806.2207\" y2=\"806.2207\"/><text fill=\"#000000\" font-family=\"sans-serif\" font-size=\"24.375\" lengthAdjust=\"spacing\" textLength=\"240\" x=\"371.25\" y=\"795.1511\">append(ts,value)</text><rect fill=\"#EEEEEE\" height=\"5.625\" style=\"stroke:#EEEEEE;stroke-width:1.875;\" width=\"1361.25\" x=\"0\" y=\"872.5269\"/><line style=\"stroke:#000000;stroke-width:1.875;\" x1=\"0\" x2=\"1361.25\" y1=\"872.5269\" y2=\"872.5269\"/><line style=\"stroke:#000000;stroke-width:1.875;\" x1=\"0\" x2=\"1361.25\" y1=\"878.1519\" y2=\"878.1519\"/><rect fill=\"#EEEEEE\" height=\"42.6123\" style=\"stroke:#000000;stroke-width:3.75;\" width=\"236.25\" x=\"562.5\" y=\"853.0957\"/><text fill=\"#000000\" font-family=\"sans-serif\" font-size=\"24.375\" font-weight=\"bold\" lengthAdjust=\"spacing\" textLength=\"195\" x=\"573.75\" y=\"880.8884\">Optional path</text><path d=\"M18.75,927.583 L148.125,927.583 L148.125,940.1953 L129.375,958.9453 L18.75,958.9453 L18.75,927.583 \" fill=\"#EEEEEE\" style=\"stroke:#000000;stroke-width:2.8125;\"/><rect fill=\"none\" height=\"139.0869\" style=\"stroke:#000000;stroke-width:2.8125;\" width=\"738.75\" x=\"18.75\" y=\"927.583\"/><text fill=\"#000000\" font-family=\"sans-serif\" font-size=\"24.375\" font-weight=\"bold\" lengthAdjust=\"spacing\" textLength=\"45\" x=\"46.875\" y=\"949.7507\">opt</text><text fill=\"#000000\" font-family=\"sans-serif\" font-size=\"20.625\" font-weight=\"bold\" lengthAdjust=\"spacing\" textLength=\"223.125\" x=\"176.25\" y=\"948.5037\">[Change interval]</text><polygon fill=\"#181818\" points=\"335.625,990.3076,354.375,997.8076,335.625,1005.3076,343.125,997.8076\" style=\"stroke:#181818;stroke-width:1.875;\"/><line style=\"stroke:#181818;stroke-width:1.875;\" x1=\"73.125\" x2=\"346.875\" y1=\"997.8076\" y2=\"997.8076\"/><text fill=\"#000000\" font-family=\"sans-serif\" font-size=\"24.375\" lengthAdjust=\"spacing\" textLength=\"240\" x=\"86.25\" y=\"986.738\">setInterval(30s)</text><polygon fill=\"#181818\" points=\"665.625,1044.1699,684.375,1051.6699,665.625,1059.1699,673.125,1051.6699\" style=\"stroke:#181818;stroke-width:1.875;\"/><line style=\"stroke:#181818;stroke-width:1.875;\" x1=\"358.125\" x2=\"676.875\" y1=\"1051.6699\" y2=\"1051.6699\"/><text fill=\"#000000\" font-family=\"sans-serif\" font-size=\"24.375\" lengthAdjust=\"spacing\" textLength=\"180\" x=\"371.25\" y=\"1040.6003\">restart(30s)</text><!--SRC=[LL3BJiCm4BpxAuPRAb5K2Qc7IE6ISa02WPHmHfQzD1QERPnDKMzy15_8bx197w8tp-pEZ6UlN31-j8Inzs-MteUR92_5ZZsXeS-HWY5idDvctUFt-mSjzOcovZ4Jdc9m7BDILINBF2PKbNh5yWvrYO5rvcAXwWct9-m2KzvfNwrNms8Mlb1sqJe3ipSIAWu-neJx7UKzrYiCP6AmWmBQepCxyo76W3RiTfe9jO0vfocHITlBQIEWmV8WbkoHXB1qCP_L6_bb5x-AUMTnOXzBw9Ges8A7w_FedxvMCfoxF2TsCMYFfBcRgiJ4g3iTjeHJSz6UJqJyS6IBs-aUnyHsQd6urqoB_Hy0]--></g></svg>"
          },
          "metadata": {}
        },
        {
          "output_type": "execute_result",
          "data": {
            "text/plain": [
              "'uml_c1523bc116c84bb68f57dbc4d3f61ca9.svg'"
            ],
            "application/vnd.google.colaboratory.intrinsic+json": {
              "type": "string"
            }
          },
          "metadata": {},
          "execution_count": 54
        }
      ]
    },
    {
      "cell_type": "code",
      "source": [
        "puml = r\"\"\"\n",
        "@startuml\n",
        "title Activity Diagram — Minimal 1-Minute Temperature Read\n",
        "\n",
        "start\n",
        ":Initialize system;\n",
        ":Load config (interval=60s);\n",
        "\n",
        "repeat\n",
        "  :Wait 60 seconds;\n",
        "  :Read temperature;\n",
        "  if (Sensor OK?) then (yes)\n",
        "    :Display value;\n",
        "    :Log reading;\n",
        "  else (no)\n",
        "    :Show \"Sensor Error\";\n",
        "  endif\n",
        "repeat while (continue monitoring?) is (yes)\n",
        "stop\n",
        "@enduml\n",
        "\"\"\"\n",
        "render_puml(puml)"
      ],
      "metadata": {
        "colab": {
          "base_uri": "https://localhost:8080/",
          "height": 632
        },
        "id": "gzAv3jLtjlVE",
        "outputId": "d4bcbdf8-1896-4701-9968-f6a4623d2368"
      },
      "execution_count": null,
      "outputs": [
        {
          "output_type": "display_data",
          "data": {
            "text/plain": [
              "<IPython.core.display.SVG object>"
            ],
            "image/svg+xml": "<svg xmlns=\"http://www.w3.org/2000/svg\" xmlns:xlink=\"http://www.w3.org/1999/xlink\" contentStyleType=\"text/css\" height=\"593px\" preserveAspectRatio=\"none\" style=\"width:459px;height:593px;background:#FFFFFF;\" version=\"1.1\" viewBox=\"0 0 459 593\" width=\"459px\" zoomAndPan=\"magnify\"><defs/><g><text fill=\"#000000\" font-family=\"sans-serif\" font-size=\"14\" font-weight=\"bold\" lengthAdjust=\"spacing\" textLength=\"416\" x=\"20\" y=\"31.6553\">Activity Diagram — Minimal 1-Minute Temperature Read</text><ellipse cx=\"204.5\" cy=\"56.8594\" fill=\"#222222\" rx=\"10\" ry=\"10\" style=\"stroke:#222222;stroke-width:1.0;\"/><rect fill=\"#F1F1F1\" height=\"33.5938\" rx=\"12.5\" ry=\"12.5\" style=\"stroke:#181818;stroke-width:0.5;\" width=\"139\" x=\"135\" y=\"86.8594\"/><text fill=\"#000000\" font-family=\"sans-serif\" font-size=\"12\" lengthAdjust=\"spacing\" textLength=\"119\" x=\"145\" y=\"106.8496\">Initialize system</text><rect fill=\"#F1F1F1\" height=\"33.5938\" rx=\"12.5\" ry=\"12.5\" style=\"stroke:#181818;stroke-width:0.5;\" width=\"202\" x=\"103.5\" y=\"140.4531\"/><text fill=\"#000000\" font-family=\"sans-serif\" font-size=\"12\" lengthAdjust=\"spacing\" textLength=\"182\" x=\"113.5\" y=\"160.4434\">Load config (interval=60s)</text><rect fill=\"#F1F1F1\" height=\"33.5938\" rx=\"12.5\" ry=\"12.5\" style=\"stroke:#181818;stroke-width:0.5;\" width=\"125\" x=\"142\" y=\"238.0469\"/><text fill=\"#000000\" font-family=\"sans-serif\" font-size=\"12\" lengthAdjust=\"spacing\" textLength=\"105\" x=\"152\" y=\"258.0371\">Wait 60 seconds</text><rect fill=\"#F1F1F1\" height=\"33.5938\" rx=\"12.5\" ry=\"12.5\" style=\"stroke:#181818;stroke-width:0.5;\" width=\"132\" x=\"138.5\" y=\"291.6406\"/><text fill=\"#000000\" font-family=\"sans-serif\" font-size=\"12\" lengthAdjust=\"spacing\" textLength=\"112\" x=\"148.5\" y=\"311.6309\">Read temperature</text><polygon fill=\"#F1F1F1\" points=\"169.5,345.2344,239.5,345.2344,251.5,357.2344,239.5,369.2344,169.5,369.2344,157.5,357.2344,169.5,345.2344\" style=\"stroke:#181818;stroke-width:0.5;\"/><text fill=\"#000000\" font-family=\"sans-serif\" font-size=\"11\" lengthAdjust=\"spacing\" textLength=\"70\" x=\"169.5\" y=\"360.1616\">Sensor OK?</text><text fill=\"#000000\" font-family=\"sans-serif\" font-size=\"11\" lengthAdjust=\"spacing\" textLength=\"21\" x=\"136.5\" y=\"353.9312\">yes</text><text fill=\"#000000\" font-family=\"sans-serif\" font-size=\"11\" lengthAdjust=\"spacing\" textLength=\"14\" x=\"251.5\" y=\"353.9312\">no</text><rect fill=\"#F1F1F1\" height=\"33.5938\" rx=\"12.5\" ry=\"12.5\" style=\"stroke:#181818;stroke-width:0.5;\" width=\"111\" x=\"73\" y=\"379.2344\"/><text fill=\"#000000\" font-family=\"sans-serif\" font-size=\"12\" lengthAdjust=\"spacing\" textLength=\"91\" x=\"83\" y=\"399.2246\">Display value</text><rect fill=\"#F1F1F1\" height=\"33.5938\" rx=\"12.5\" ry=\"12.5\" style=\"stroke:#181818;stroke-width:0.5;\" width=\"97\" x=\"80\" y=\"432.8281\"/><text fill=\"#000000\" font-family=\"sans-serif\" font-size=\"12\" lengthAdjust=\"spacing\" textLength=\"77\" x=\"90\" y=\"452.8184\">Log reading</text><rect fill=\"#F1F1F1\" height=\"33.5938\" rx=\"12.5\" ry=\"12.5\" style=\"stroke:#181818;stroke-width:0.5;\" width=\"153\" x=\"204\" y=\"379.2344\"/><text fill=\"#000000\" font-family=\"sans-serif\" font-size=\"12\" lengthAdjust=\"spacing\" textLength=\"133\" x=\"214\" y=\"399.2246\">Show &quot;Sensor Error&quot;</text><polygon fill=\"#F1F1F1\" points=\"204.5,472.4219,216.5,484.4219,204.5,496.4219,192.5,484.4219,204.5,472.4219\" style=\"stroke:#181818;stroke-width:0.5;\"/><polygon fill=\"#F1F1F1\" points=\"204.5,194.0469,216.5,206.0469,204.5,218.0469,192.5,206.0469,204.5,194.0469\" style=\"stroke:#181818;stroke-width:0.5;\"/><polygon fill=\"#F1F1F1\" points=\"134.5,516.4219,274.5,516.4219,286.5,528.4219,274.5,540.4219,134.5,540.4219,122.5,528.4219,134.5,516.4219\" style=\"stroke:#181818;stroke-width:0.5;\"/><text fill=\"#000000\" font-family=\"sans-serif\" font-size=\"11\" lengthAdjust=\"spacing\" textLength=\"140\" x=\"134.5\" y=\"531.3491\">continue monitoring?</text><text fill=\"#000000\" font-family=\"sans-serif\" font-size=\"11\" lengthAdjust=\"spacing\" textLength=\"21\" x=\"286.5\" y=\"525.1187\">yes</text><ellipse cx=\"204.5\" cy=\"571.4219\" fill=\"none\" rx=\"11\" ry=\"11\" style=\"stroke:#222222;stroke-width:1.0;\"/><ellipse cx=\"204.5\" cy=\"571.4219\" fill=\"#222222\" rx=\"6\" ry=\"6\" style=\"stroke:#111111;stroke-width:1.0;\"/><line style=\"stroke:#181818;stroke-width:1.0;\" x1=\"204.5\" x2=\"204.5\" y1=\"66.8594\" y2=\"86.8594\"/><polygon fill=\"#181818\" points=\"200.5,76.8594,204.5,86.8594,208.5,76.8594,204.5,80.8594\" style=\"stroke:#181818;stroke-width:1.0;\"/><line style=\"stroke:#181818;stroke-width:1.0;\" x1=\"204.5\" x2=\"204.5\" y1=\"120.4531\" y2=\"140.4531\"/><polygon fill=\"#181818\" points=\"200.5,130.4531,204.5,140.4531,208.5,130.4531,204.5,134.4531\" style=\"stroke:#181818;stroke-width:1.0;\"/><line style=\"stroke:#181818;stroke-width:1.0;\" x1=\"204.5\" x2=\"204.5\" y1=\"271.6406\" y2=\"291.6406\"/><polygon fill=\"#181818\" points=\"200.5,281.6406,204.5,291.6406,208.5,281.6406,204.5,285.6406\" style=\"stroke:#181818;stroke-width:1.0;\"/><line style=\"stroke:#181818;stroke-width:1.0;\" x1=\"128.5\" x2=\"128.5\" y1=\"412.8281\" y2=\"432.8281\"/><polygon fill=\"#181818\" points=\"124.5,422.8281,128.5,432.8281,132.5,422.8281,128.5,426.8281\" style=\"stroke:#181818;stroke-width:1.0;\"/><line style=\"stroke:#181818;stroke-width:1.0;\" x1=\"157.5\" x2=\"128.5\" y1=\"357.2344\" y2=\"357.2344\"/><line style=\"stroke:#181818;stroke-width:1.0;\" x1=\"128.5\" x2=\"128.5\" y1=\"357.2344\" y2=\"379.2344\"/><polygon fill=\"#181818\" points=\"124.5,369.2344,128.5,379.2344,132.5,369.2344,128.5,373.2344\" style=\"stroke:#181818;stroke-width:1.0;\"/><line style=\"stroke:#181818;stroke-width:1.0;\" x1=\"251.5\" x2=\"280.5\" y1=\"357.2344\" y2=\"357.2344\"/><line style=\"stroke:#181818;stroke-width:1.0;\" x1=\"280.5\" x2=\"280.5\" y1=\"357.2344\" y2=\"379.2344\"/><polygon fill=\"#181818\" points=\"276.5,369.2344,280.5,379.2344,284.5,369.2344,280.5,373.2344\" style=\"stroke:#181818;stroke-width:1.0;\"/><line style=\"stroke:#181818;stroke-width:1.0;\" x1=\"128.5\" x2=\"128.5\" y1=\"466.4219\" y2=\"484.4219\"/><line style=\"stroke:#181818;stroke-width:1.0;\" x1=\"128.5\" x2=\"192.5\" y1=\"484.4219\" y2=\"484.4219\"/><polygon fill=\"#181818\" points=\"182.5,480.4219,192.5,484.4219,182.5,488.4219,186.5,484.4219\" style=\"stroke:#181818;stroke-width:1.0;\"/><line style=\"stroke:#181818;stroke-width:1.0;\" x1=\"280.5\" x2=\"280.5\" y1=\"412.8281\" y2=\"484.4219\"/><line style=\"stroke:#181818;stroke-width:1.0;\" x1=\"280.5\" x2=\"216.5\" y1=\"484.4219\" y2=\"484.4219\"/><polygon fill=\"#181818\" points=\"226.5,480.4219,216.5,484.4219,226.5,488.4219,222.5,484.4219\" style=\"stroke:#181818;stroke-width:1.0;\"/><line style=\"stroke:#181818;stroke-width:1.0;\" x1=\"204.5\" x2=\"204.5\" y1=\"325.2344\" y2=\"345.2344\"/><polygon fill=\"#181818\" points=\"200.5,335.2344,204.5,345.2344,208.5,335.2344,204.5,339.2344\" style=\"stroke:#181818;stroke-width:1.0;\"/><line style=\"stroke:#181818;stroke-width:1.0;\" x1=\"204.5\" x2=\"204.5\" y1=\"218.0469\" y2=\"238.0469\"/><polygon fill=\"#181818\" points=\"200.5,228.0469,204.5,238.0469,208.5,228.0469,204.5,232.0469\" style=\"stroke:#181818;stroke-width:1.0;\"/><line style=\"stroke:#181818;stroke-width:1.0;\" x1=\"286.5\" x2=\"371\" y1=\"528.4219\" y2=\"528.4219\"/><polygon fill=\"#181818\" points=\"367,369.7344,371,359.7344,375,369.7344,371,365.7344\" style=\"stroke:#181818;stroke-width:1.0;\"/><line style=\"stroke:#181818;stroke-width:1.0;\" x1=\"371\" x2=\"371\" y1=\"206.0469\" y2=\"528.4219\"/><line style=\"stroke:#181818;stroke-width:1.0;\" x1=\"371\" x2=\"216.5\" y1=\"206.0469\" y2=\"206.0469\"/><polygon fill=\"#181818\" points=\"226.5,202.0469,216.5,206.0469,226.5,210.0469,222.5,206.0469\" style=\"stroke:#181818;stroke-width:1.0;\"/><line style=\"stroke:#181818;stroke-width:1.0;\" x1=\"204.5\" x2=\"204.5\" y1=\"496.4219\" y2=\"516.4219\"/><polygon fill=\"#181818\" points=\"200.5,506.4219,204.5,516.4219,208.5,506.4219,204.5,510.4219\" style=\"stroke:#181818;stroke-width:1.0;\"/><line style=\"stroke:#181818;stroke-width:1.0;\" x1=\"204.5\" x2=\"204.5\" y1=\"174.0469\" y2=\"194.0469\"/><polygon fill=\"#181818\" points=\"200.5,184.0469,204.5,194.0469,208.5,184.0469,204.5,188.0469\" style=\"stroke:#181818;stroke-width:1.0;\"/><line style=\"stroke:#181818;stroke-width:1.0;\" x1=\"204.5\" x2=\"204.5\" y1=\"540.4219\" y2=\"560.4219\"/><polygon fill=\"#181818\" points=\"200.5,550.4219,204.5,560.4219,208.5,550.4219,204.5,554.4219\" style=\"stroke:#181818;stroke-width:1.0;\"/><!--SRC=[HL0nQiD04Epl5OChgGWuZGk9409s4U8GY0Ef3sibBPpknDxAHgdoYBmmBydA2D8jipEpiwEiWV1qLhwmpjYpxyGF-Ft-mIj77dp0_PrDan8-Q1X9l4v2U2VVE9VLYxhgERAo3_n5o7DM6cfN7PDlS4wnvGu5HoMv-F2ms-QoTave9AyEg3uzAtPRP39ka-i5MxoX_ySMa5iK9uev2TvU7ajeJn75JBcqfMdsdCVWPzYHwIOmx9WwY7bnx1Q4GYOKCQsAKv-ksAoU1v4acnihDjok0N7jsTefB9fQ1OGXsQT9pD0YS5u3P4tZ7m00]--></g></svg>"
          },
          "metadata": {}
        },
        {
          "output_type": "execute_result",
          "data": {
            "text/plain": [
              "'uml_adbf209b9bfe49f1ae78b1a0b299f3c2.svg'"
            ],
            "application/vnd.google.colaboratory.intrinsic+json": {
              "type": "string"
            }
          },
          "metadata": {},
          "execution_count": 56
        }
      ]
    }
  ]
}